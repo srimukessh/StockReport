{
 "cells": [
  {
   "cell_type": "markdown",
   "metadata": {},
   "source": [
    "### Upload stock analysis to the cloud"
   ]
  },
  {
   "cell_type": "code",
   "execution_count": 1,
   "metadata": {},
   "outputs": [],
   "source": [
    "import subprocess\n",
    "import papermill as pm\n",
    "import datetime as dt\n",
    "from datetime import timedelta"
   ]
  },
  {
   "cell_type": "markdown",
   "metadata": {},
   "source": [
    "### Function which generates the Stock Report based on the inputs(Symbols, Number of days)"
   ]
  },
  {
   "cell_type": "code",
   "execution_count": 38,
   "metadata": {},
   "outputs": [],
   "source": [
    "def run_notebook(Symbols,NoOfDays, notebook_template):\n",
    "    # take only the name of the file, and ignore the .xlsx ending\n",
    "    # run with papermill\n",
    "    # \n",
    "    output_file = f\"Stock Report for {dt.datetime.now().day}_0{dt.datetime.now().month}.ipynb\"\n",
    "    pm.execute_notebook(\n",
    "        notebook_template,\n",
    "        output_file,\n",
    "        parameters=dict(symbols=Symbols,N = NoOfDays),\n",
    "    )\n",
    "    return output_file"
   ]
  },
  {
   "cell_type": "markdown",
   "metadata": {},
   "source": [
    "##### PS - The template Notebook is a separate notebook file which has the template of the Stock Report to be generated"
   ]
  },
  {
   "cell_type": "code",
   "execution_count": 43,
   "metadata": {},
   "outputs": [
    {
     "data": {
      "application/vnd.jupyter.widget-view+json": {
       "model_id": "9d33055fe70c4f4d8be803b218398ed9",
       "version_major": 2,
       "version_minor": 0
      },
      "text/plain": [
       "HBox(children=(FloatProgress(value=0.0, description='Executing', max=9.0, style=ProgressStyle(description_widt…"
      ]
     },
     "metadata": {},
     "output_type": "display_data"
    },
    {
     "name": "stdout",
     "output_type": "stream",
     "text": [
      "\n"
     ]
    },
    {
     "data": {
      "text/plain": [
       "'Stock Report for 27_09.ipynb'"
      ]
     },
     "execution_count": 43,
     "metadata": {},
     "output_type": "execute_result"
    }
   ],
   "source": [
    "Symbols = ['AAPL','FB','TSLA']\n",
    "NoOfDays = 200 # No of Days for which the report will be generated\n",
    "notebook_template = 'Template_NB_stock_report.ipynb'\n",
    "run_notebook(Symbols,NoOfDays, notebook_template)"
   ]
  },
  {
   "cell_type": "markdown",
   "metadata": {},
   "source": [
    "### Function which pushes the report to the cloud"
   ]
  },
  {
   "cell_type": "code",
   "execution_count": 40,
   "metadata": {},
   "outputs": [],
   "source": [
    "# subprocerss allows to run terminal commands through python\n",
    "def push_to_cloud(file,cloud_folder):\n",
    "    subprocess.run(['rclone','copy',file, f\"remote:{cloud_folder}\"],capture_output=True, text = True)\n",
    "    print('Report pushed to the cloud')"
   ]
  },
  {
   "cell_type": "code",
   "execution_count": 42,
   "metadata": {},
   "outputs": [
    {
     "data": {
      "application/vnd.jupyter.widget-view+json": {
       "model_id": "4f1c39ba7d3747f3b7e7f257701d59fa",
       "version_major": 2,
       "version_minor": 0
      },
      "text/plain": [
       "HBox(children=(FloatProgress(value=0.0, description='Executing', max=9.0, style=ProgressStyle(description_widt…"
      ]
     },
     "metadata": {},
     "output_type": "display_data"
    },
    {
     "name": "stdout",
     "output_type": "stream",
     "text": [
      "\n",
      "Report pushed to the cloud\n"
     ]
    }
   ],
   "source": [
    "cloud_folder = 'Stock Analysis'\n",
    "file  = run_notebook(Symbols,NoOfDays, notebook_template)\n",
    "push_to_cloud(file,cloud_folder)"
   ]
  }
 ],
 "metadata": {
  "kernelspec": {
   "display_name": "Python 3",
   "language": "python",
   "name": "python3"
  },
  "language_info": {
   "codemirror_mode": {
    "name": "ipython",
    "version": 3
   },
   "file_extension": ".py",
   "mimetype": "text/x-python",
   "name": "python",
   "nbconvert_exporter": "python",
   "pygments_lexer": "ipython3",
   "version": "3.8.3"
  }
 },
 "nbformat": 4,
 "nbformat_minor": 4
}
